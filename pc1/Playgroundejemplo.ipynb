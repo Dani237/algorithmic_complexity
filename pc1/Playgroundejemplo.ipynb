{
  "nbformat": 4,
  "nbformat_minor": 0,
  "metadata": {
    "colab": {
      "name": "Playgroundejemplo.ipynb",
      "provenance": [],
      "authorship_tag": "ABX9TyOUfs4YvWg3O9BUD7zV9Qdt",
      "include_colab_link": true
    },
    "kernelspec": {
      "name": "python3",
      "display_name": "Python 3"
    },
    "language_info": {
      "name": "python"
    }
  },
  "cells": [
    {
      "cell_type": "markdown",
      "metadata": {
        "id": "view-in-github",
        "colab_type": "text"
      },
      "source": [
        "<a href=\"https://colab.research.google.com/github/lmcanavals/algorithmic_complexity/blob/main/pc1/Playgroundejemplo.ipynb\" target=\"_parent\"><img src=\"https://colab.research.google.com/assets/colab-badge.svg\" alt=\"Open In Colab\"/></a>"
      ]
    },
    {
      "cell_type": "markdown",
      "metadata": {
        "id": "Tv82hIlHT1FX"
      },
      "source": [
        "# Playground\n",
        "\n",
        "Lean con detenimiento!"
      ]
    },
    {
      "cell_type": "markdown",
      "metadata": {
        "id": "mUBKm0WbT91X"
      },
      "source": [
        "## Pregunta 1\n",
        "\n",
        "Vale 10 puntos\n",
        "\n",
        "Haga una función que reciba 2 números y retorne la suma.\n",
        "\n",
        "Luego copie desde la línea 2 al archivo suma.py"
      ]
    },
    {
      "cell_type": "code",
      "metadata": {
        "id": "JsAdngH-Twbd"
      },
      "source": [
        "%%file pregunta1.py\n",
        "\n",
        "def suma(a, b): ## No modifique el nombre ni los parametros\n",
        "\n",
        "  return None"
      ],
      "execution_count": null,
      "outputs": []
    },
    {
      "cell_type": "markdown",
      "metadata": {
        "id": "iHgr9rE2UTpu"
      },
      "source": [
        "## Casos de prueba"
      ]
    },
    {
      "cell_type": "code",
      "metadata": {
        "id": "WWEBAYcuUTJg"
      },
      "source": [
        "%%file pregunta1_test.py\n",
        "import pregunta1 as p\n",
        "\n",
        "def test_suma():\n",
        "  assert p.suma(4, 4) == 8\n",
        "\n",
        "def test_sumita():\n",
        "  assert p.suma(1, -1) == 0"
      ],
      "execution_count": null,
      "outputs": []
    },
    {
      "cell_type": "code",
      "metadata": {
        "id": "0KJt-KAUUmbp"
      },
      "source": [
        "!python -m pytest"
      ],
      "execution_count": null,
      "outputs": []
    },
    {
      "cell_type": "code",
      "metadata": {
        "id": "7DIDZ1f0Uovd"
      },
      "source": [
        ""
      ],
      "execution_count": null,
      "outputs": []
    }
  ]
}