{
  "nbformat": 4,
  "nbformat_minor": 0,
  "metadata": {
    "colab": {
      "name": "03-02-wordcount-quicksort.ipynb",
      "provenance": [],
      "authorship_tag": "ABX9TyPzNFJqVNzrisi6tOdPohWs",
      "include_colab_link": true
    },
    "kernelspec": {
      "name": "python3",
      "display_name": "Python 3"
    },
    "language_info": {
      "name": "python"
    }
  },
  "cells": [
    {
      "cell_type": "markdown",
      "metadata": {
        "id": "view-in-github",
        "colab_type": "text"
      },
      "source": [
        "<a href=\"https://colab.research.google.com/github/lmcanavals/algorithmic_complexity/blob/main/03_02_wordcount_quicksort.ipynb\" target=\"_parent\"><img src=\"https://colab.research.google.com/assets/colab-badge.svg\" alt=\"Open In Colab\"/></a>"
      ]
    },
    {
      "cell_type": "code",
      "metadata": {
        "colab": {
          "base_uri": "https://localhost:8080/"
        },
        "id": "XAXoPtzNYJwO",
        "outputId": "95967bb7-b8d9-408e-e8e2-d62103b39b61"
      },
      "source": [
        "%%file lorem.ipsum\n",
        "Lorem ipsum dolor sit amet, consectetur adipiscing elit. Morbi hendrerit lorem id neque tincidunt congue. Etiam non dui vel nulla tempus vulputate. Aliquam non rhoncus dui. Vivamus id ligula id ante varius tempus euismod ut odio. Nam sit amet elementum arcu. Nulla efficitur pretium pretium. Aenean congue iaculis mauris vitae malesuada. Vestibulum pharetra interdum eleifend. Nam sit amet rutrum massa. Vivamus consequat mi at enim euismod convallis. Morbi semper ipsum est, ac interdum nunc tristique sed. Duis a ante est.\n",
        "\n",
        "Vestibulum volutpat massa a lectus venenatis ornare. Donec eu pretium sapien, nec facilisis justo. Sed sed sagittis erat. Orci varius natoque penatibus et magnis dis parturient montes, nascetur ridiculus mus. Curabitur non nunc eget odio dictum dignissim. Mauris blandit egestas massa, at posuere neque. Proin nec enim at nulla viverra tempus. Integer et ante commodo, lacinia lectus id, auctor nulla. Suspendisse potenti. Phasellus ante enim, bibendum in libero in, lobortis gravida odio. Sed consectetur metus vel libero pretium, et ultricies quam consectetur. Pellentesque eu sapien ac risus pellentesque semper.\n",
        "\n",
        "Cras condimentum, massa eu rutrum mollis, magna dolor convallis justo, in auctor dui libero nec purus. Ut vulputate venenatis nisi, at elementum odio tempus eu. Suspendisse cursus dictum neque, et viverra urna fringilla id. Quisque augue dui, semper id tempus vel, tristique vel massa. Morbi semper bibendum felis, eu semper justo dictum sed. Sed ornare lacus quis hendrerit posuere. Donec et lacus ut nisl aliquam iaculis non eget risus. Etiam egestas mauris ligula, non feugiat mauris faucibus sed. Lorem ipsum dolor sit amet, consectetur adipiscing elit. Quisque quis odio interdum, fermentum urna et, dignissim nibh. Ut imperdiet porta tortor, ut dignissim urna molestie et. Donec venenatis turpis ut nisl rhoncus, quis maximus orci volutpat. Nulla elementum elit a tincidunt ultrices.\n",
        "\n",
        "Maecenas id nisl lacus. Aenean nec libero in magna scelerisque commodo nec in sem. Phasellus iaculis egestas eros a rhoncus. Nam ornare nunc vitae felis pellentesque elementum. Maecenas vel purus sit amet nulla aliquet dignissim. Ut dolor neque, finibus vitae euismod et, gravida non odio. Etiam bibendum erat diam, sed scelerisque purus porttitor eleifend. Aliquam neque turpis, dapibus quis ultrices vel, accumsan ut est. Fusce tincidunt malesuada leo, sit amet commodo nulla. Sed pellentesque risus nec diam pellentesque tincidunt ac eget arcu. Vestibulum semper elementum gravida. Donec laoreet tortor eget ligula cursus, eu blandit nunc pellentesque. Sed ut cursus lacus, at sollicitudin odio. In tristique nec lectus non lacinia. Etiam eget rhoncus enim.\n",
        "\n",
        "Donec vitae tempor tellus. Pellentesque pharetra tincidunt arcu, at aliquet lacus lobortis laoreet. Pellentesque non risus neque. In interdum eget arcu dignissim interdum. Vestibulum porta aliquet dui. Nunc non erat lacus. Phasellus et vestibulum mauris, in ultricies nisi. Praesent vestibulum tortor eu mattis auctor.\n",
        "\n",
        "Donec maximus, erat eu accumsan feugiat, lacus leo laoreet nunc, vitae accumsan nibh erat sit amet tellus. Proin bibendum tortor non ante aliquam gravida. Ut ac augue sed ex malesuada facilisis eu vel arcu. Proin tincidunt augue at laoreet condimentum. Donec suscipit euismod imperdiet. Fusce blandit volutpat risus sed viverra. Cras vulputate accumsan felis dapibus tincidunt. Morbi eu velit sit amet elit facilisis bibendum sed id magna. Maecenas tincidunt fermentum ex at mattis. Vestibulum ut blandit ipsum. Praesent non facilisis ligula. Nulla efficitur dolor et augue molestie, lacinia tristique urna feugiat. Etiam lorem mi, varius quis velit id, molestie ultrices felis.\n",
        "\n",
        "Suspendisse sodales mauris diam, id eleifend tortor rutrum vitae. Aliquam sagittis ligula ac pellentesque varius. Aenean tristique, neque scelerisque pulvinar malesuada, massa lectus malesuada dolor, a tempor elit leo eu justo. Pellentesque habitant morbi tristique senectus et netus et malesuada fames ac turpis egestas. Quisque ornare ante magna, et gravida sem consectetur at. Cras venenatis velit id sapien ullamcorper hendrerit. Duis mollis facilisis nunc tempus ultricies. Phasellus vel gravida turpis, sit amet vehicula nunc. Aenean dictum nunc magna. Donec ac urna vitae est vehicula mattis id at purus. Vestibulum tincidunt lectus nec feugiat dictum. Donec non mauris augue. Donec quis commodo justo.\n",
        "\n",
        "Nulla facilisi. Morbi at mi placerat, sollicitudin lacus sit amet, blandit urna. Praesent ut risus feugiat, pretium nibh in, suscipit ligula. Praesent id enim at velit vestibulum blandit ut ac tortor. Praesent eros nibh, viverra in ligula in, pharetra imperdiet ex. Etiam pellentesque mauris sed velit tristique, non posuere elit tincidunt. Donec eu diam at enim scelerisque euismod in quis mauris. Nullam imperdiet, metus non commodo dapibus, ex nunc varius mauris, ut congue nibh dui id ipsum. Nunc placerat metus at nisl fermentum congue. Fusce et arcu ac est rutrum efficitur quis sit amet felis. Sed sem ex, aliquam vel tincidunt vel, aliquam vitae nunc. Nulla sit amet velit fermentum erat volutpat vehicula. Curabitur ornare, quam et sodales eleifend, magna velit vehicula tellus, a mollis massa sem in turpis. Etiam non nisl consequat, luctus leo nec, volutpat metus. Lorem ipsum dolor sit amet, consectetur adipiscing elit.\n",
        "\n",
        "Suspendisse varius magna massa, dapibus fermentum orci pharetra porta. Donec gravida quam id mauris lobortis hendrerit. Etiam tincidunt consectetur felis non varius. Cras vehicula turpis et arcu posuere interdum. Donec enim enim, pretium non mi at, pellentesque hendrerit erat. Maecenas at erat dui. Vivamus consectetur facilisis diam non auctor. Nullam bibendum convallis lacus nec pretium. Aenean sodales nisi eu neque suscipit, id dignissim mi posuere. Maecenas dignissim, felis sed auctor mollis, diam ipsum euismod sapien, in ornare justo purus id urna. Aenean viverra in sapien eget lacinia. Integer quis mauris vitae eros auctor ultrices. Suspendisse rhoncus consectetur placerat. Morbi ultrices, dolor sit amet interdum aliquam, urna mi euismod purus, in egestas ipsum neque ut turpis. Praesent vitae ultricies erat.\n",
        "\n",
        "Integer fringilla gravida lobortis. Aliquam viverra efficitur fringilla. Nunc congue sapien eget nulla mollis, et sollicitudin metus consequat. Mauris sit amet bibendum ligula, vitae porta neque. Nunc efficitur posuere augue at aliquet. Aliquam posuere luctus sapien ac dignissim. Nullam iaculis pellentesque augue.\n",
        "\n",
        "Curabitur quis ornare urna. Nulla venenatis urna sit amet molestie laoreet. Aenean lacinia diam lectus, sed faucibus odio laoreet vitae. Suspendisse ac elit accumsan, rutrum sem eu, fringilla nibh. Curabitur semper dolor ac mi efficitur dapibus ut vestibulum enim. In nec ex sed quam maximus ullamcorper at gravida tellus. Donec pellentesque nunc eu mattis facilisis. Mauris tincidunt rutrum libero dapibus accumsan. Ut auctor facilisis ipsum nec mollis.\n",
        "\n",
        "Sed molestie feugiat quam, ut semper eros rhoncus et. Ut mattis, odio et vestibulum dictum, nunc justo porttitor metus, consectetur convallis velit nulla quis turpis. Suspendisse imperdiet magna placerat, cursus lorem id, ornare purus. Nulla facilisi. Maecenas eleifend est ac semper sollicitudin. Donec eu neque elit. Nullam et nibh ac nisl sollicitudin rutrum. Class aptent taciti sociosqu ad litora torquent per conubia nostra, per inceptos himenaeos. Aliquam pretium ultricies ligula non rhoncus.\n",
        "\n",
        "Nam aliquet, eros a varius dapibus, risus eros rutrum lectus, vitae venenatis metus enim id leo. Donec vitae diam nec nisl condimentum elementum a quis elit. Fusce porta sapien id porttitor molestie. Praesent et fermentum ligula. Morbi laoreet fringilla porttitor. Aliquam augue mi, semper a nisl eget, tincidunt commodo lacus. Mauris consectetur tortor non auctor porttitor. Ut id ligula accumsan, rutrum lorem condimentum, porta arcu.\n",
        "\n",
        "In commodo nibh sed erat pulvinar, finibus ultricies felis imperdiet. Sed sit amet diam sollicitudin, tristique erat vitae, lacinia urna. Quisque non mi enim. Etiam nec elit laoreet nulla ullamcorper finibus sit amet in ligula. Pellentesque bibendum faucibus semper. Aenean consectetur lectus at diam viverra, quis eleifend metus faucibus. Duis lobortis ullamcorper nunc venenatis mollis. Phasellus at risus eu eros fermentum congue. Class aptent taciti sociosqu ad litora torquent per conubia nostra, per inceptos himenaeos. Duis consequat ultricies ipsum, a tempus arcu pretium et. Cras rutrum magna quis rutrum imperdiet.\n",
        "\n",
        "Nam non tempus enim, quis pellentesque lectus. Fusce et laoreet arcu, quis luctus quam. Nullam id congue nulla. Aliquam nec enim turpis. Fusce at libero finibus enim dignissim maximus. Nulla nisl ipsum, ornare a cursus a, faucibus quis nibh. Suspendisse venenatis ac arcu ac scelerisque. In elementum, nisi sit amet porttitor posuere, nisl orci interdum diam, sit amet tempus purus leo placerat eros. In hac habitasse platea dictumst. Integer sit amet est lectus. Curabitur vehicula est eu ante vulputate euismod. Etiam ut pharetra libero. In tempus finibus nisi, ornare fermentum nulla luctus condimentum.\n",
        "\n",
        "Duis condimentum neque a faucibus fermentum. Phasellus tellus orci, posuere ac sagittis quis, vestibulum vel felis. Nunc eget ex vel eros venenatis ultricies. Cras pellentesque auctor congue. In hac habitasse platea dictumst. Integer magna urna, porta eu consequat ac, pharetra quis quam. Mauris at eleifend risus, non iaculis enim. Mauris quam ante, cursus aliquet tellus sit amet, interdum congue elit. Praesent tincidunt efficitur nulla. Aenean finibus tincidunt sem, sit amet lobortis massa posuere non. Vivamus interdum egestas velit vitae maximus. Vestibulum vehicula, libero eget efficitur viverra, neque risus cursus massa, ac pulvinar nisi mauris eu tortor.\n",
        "\n",
        "Suspendisse potenti. Nunc sit amet libero vel nibh aliquam pulvinar. Etiam rutrum, ligula in feugiat ullamcorper, dolor lacus facilisis massa, eu pellentesque nisi risus sed tortor. Suspendisse accumsan condimentum ante eu laoreet. Donec vel ex ante. Duis non metus lobortis, consequat lacus vel, placerat sem. Duis elit mi, tempus a dictum eget, bibendum quis diam. Duis quis felis metus. Duis consectetur urna sed ornare egestas. Praesent id molestie risus. Nullam malesuada purus at velit ornare vestibulum. Aliquam erat volutpat.\n",
        "\n",
        "Nulla vel egestas erat. Proin placerat dolor at est viverra consectetur. Curabitur velit sapien, dapibus dapibus faucibus vel, tristique ac turpis. Nam sodales, ligula ac venenatis cursus, augue massa pellentesque nisi, in pulvinar orci arcu sed purus. Duis placerat dictum hendrerit. Maecenas iaculis est et egestas iaculis. Maecenas gravida sem nisl, vitae congue sapien interdum quis. Donec vestibulum porta fringilla. Suspendisse potenti. Nam efficitur augue nec condimentum efficitur. Sed eget augue sapien. Sed ac justo vel purus ullamcorper feugiat. Sed varius mi nulla, ac vestibulum arcu condimentum non. Integer quis magna nisi. Nullam aliquet fermentum massa, vel varius dui tincidunt eu.\n",
        "\n",
        "Maecenas a laoreet purus, vel vehicula libero. In ullamcorper justo a convallis pharetra. Mauris tristique enim sed volutpat faucibus. Suspendisse ultrices tellus tellus, euismod euismod est facilisis interdum. Vestibulum in ante vel metus fermentum vestibulum vel nec mauris. Nullam luctus justo ac nibh placerat tincidunt. Ut sed aliquam turpis, vitae convallis ex. Integer ac dui arcu. Pellentesque habitant morbi tristique senectus et netus et malesuada fames ac turpis egestas. Fusce eu bibendum massa, a vulputate est. Nunc sit amet orci nibh. Integer a sapien libero.\n",
        "\n",
        "Mauris at accumsan felis, et malesuada lorem. Aenean eros lectus, iaculis et purus id, ornare tincidunt mi. Mauris diam risus, venenatis quis hendrerit non, vehicula id urna. Nam vel libero purus. Donec dictum neque ut vulputate dictum. Pellentesque at egestas risus. Vestibulum sapien ex, placerat eget tincidunt vel, dignissim eu neque. Quisque sed vulputate lacus, non blandit risus. Duis tempus tellus maximus mauris vehicula, vitae faucibus diam imperdiet. Ut malesuada, lacus a fringilla suscipit, urna risus rutrum quam, in mollis augue ligula nec nisi. Sed at diam placerat, ultricies ipsum at, faucibus arcu. Curabitur id magna sit amet est elementum sollicitudin tempus at ipsum. Nulla sit amet tempus turpis, sed suscipit nunc. Donec pretium sapien vitae quam consequat, eu iaculis dui maximus. Ut enim erat, pellentesque at tincidunt at, vehicula et purus. In hac habitasse platea dictumst.\n",
        "\n",
        "Sed condimentum sollicitudin ultrices. Proin vehicula ultricies tincidunt. Sed scelerisque id mi eleifend egestas. Pellentesque eget finibus est. Ut feugiat orci non luctus tincidunt. Duis sodales ac elit sed aliquet. Donec in leo rhoncus, eleifend justo vitae, pretium dui. Proin commodo felis at ornare pharetra.\n",
        "\n",
        "Praesent suscipit, urna nec tincidunt volutpat, ante nulla accumsan lectus, quis finibus metus sem id augue. Mauris feugiat, magna porttitor scelerisque molestie, nunc arcu aliquam purus, ut egestas tellus ligula eu augue. Nam vestibulum, magna vitae consectetur fringilla, nisl diam consectetur ex, in mollis ipsum metus tristique sem. Aenean pulvinar, libero pulvinar condimentum accumsan, ante odio ullamcorper nulla, eu imperdiet magna libero id ipsum. Sed in aliquam leo. Nulla et aliquam enim. Praesent pretium maximus sem eu mollis. Integer luctus vestibulum dolor, eget pellentesque est efficitur eget. Aenean dapibus mattis turpis non commodo. Donec efficitur ante felis, non fringilla nunc laoreet sit amet. In eu sollicitudin elit. Nunc vel magna semper, lobortis metus ac, malesuada diam. Phasellus sed lacus sagittis, ullamcorper augue non, elementum sapien. Maecenas eu mollis neque. Quisque eget lacus ultrices nisi viverra fermentum in sed risus. Mauris tempor semper felis sit amet ornare.\n",
        "\n",
        "Vestibulum scelerisque orci aliquet feugiat gravida. Sed ornare, mi eu vulputate sagittis, lacus leo iaculis tellus, ornare rhoncus ipsum justo ut dui. Nunc varius tempor arcu, a pretium ex porta dapibus. Quisque pharetra sodales ex, vitae blandit est hendrerit vel. Nulla eu dolor est. Vivamus pretium quam purus, tristique aliquam mauris semper eget. Quisque orci nulla, vestibulum vitae vulputate eu, aliquet ac est.\n",
        "\n",
        "Etiam placerat vitae felis at faucibus. Nam orci massa, ullamcorper id elit ac, ullamcorper auctor mauris. Nam varius ultricies nisl sed porttitor. Maecenas quis convallis arcu, vitae ultricies risus. Ut id erat molestie, finibus mauris id, consectetur est. Vivamus rhoncus posuere felis at consequat. Sed auctor porta nisi, vel sodales lectus bibendum eget. Suspendisse gravida posuere interdum. Phasellus tristique enim in augue pretium pharetra. Nunc ut orci eget libero laoreet varius.\n",
        "\n",
        "Cras vitae justo massa. Nam orci ex, aliquet in volutpat ut, tincidunt at orci. Donec tempor metus id tempor tincidunt. Praesent euismod, arcu ac rutrum rutrum, enim tellus interdum erat, non commodo neque felis vestibulum ante. Donec pellentesque est vel accumsan pretium. Suspendisse leo arcu, luctus at dolor suscipit, pretium interdum nulla. Maecenas nec iaculis risus. Curabitur justo risus, commodo a molestie in, tempus et metus. Vivamus et tristique quam. Pellentesque habitant morbi tristique senectus et netus et malesuada fames ac turpis egestas. Nunc ornare eget mauris ac ornare. Proin rhoncus viverra cursus. Proin sagittis ligula vitae metus cursus, eget lacinia ante tristique. Maecenas diam leo, tincidunt vitae enim non, porta auctor diam. Nullam at sapien sit amet urna tristique ultricies.\n",
        "\n",
        "Morbi ac justo eget nisi tempus sagittis sagittis quis quam. Cras mollis dolor in elit imperdiet porta. Nulla pellentesque vel sapien vel sagittis. Ut congue, ligula id sagittis pharetra, sapien est porttitor risus, et ultrices purus dui ut nibh. Nam a sapien faucibus, ullamcorper nibh sed, egestas tortor. Maecenas gravida leo eu ipsum bibendum hendrerit. Duis imperdiet tempor diam ut suscipit. Nulla sit amet porttitor nisi. Suspendisse semper ut justo et dictum. Duis venenatis feugiat diam, quis lobortis metus porttitor eu. Morbi tempor malesuada diam, eget feugiat sapien convallis at.\n",
        "\n",
        "Nunc sed quam sit amet orci commodo fringilla at non neque. Nulla facilisi. In molestie erat erat, ac rhoncus nunc pharetra sit amet. Nullam ut accumsan turpis, ut lacinia nunc. Sed dictum erat a nibh consectetur, commodo laoreet risus molestie. Nunc sit amet metus sed sapien auctor tincidunt ac ac libero. Nulla a ante tortor. Fusce venenatis bibendum ligula ac aliquam. Nulla non blandit neque. Nullam turpis massa, luctus id nisl eget, vehicula pharetra est. Pellentesque sed tincidunt nisi. Sed eu eleifend nisi. Nulla porttitor placerat urna id maximus.\n",
        "\n",
        "Nullam sodales arcu sit amet dolor imperdiet volutpat. Phasellus non vehicula sem, id interdum risus. Vestibulum id elit porta, condimentum magna eget, rutrum felis. Vivamus mollis tempor tellus, et cursus augue blandit a. Morbi efficitur magna ex. Sed luctus et sapien ut aliquam. Donec at ipsum feugiat quam semper gravida. Nunc finibus tristique lobortis.\n",
        "\n",
        "Donec luctus ex eros, id iaculis quam blandit quis. Class aptent taciti sociosqu ad litora torquent per conubia nostra, per inceptos himenaeos. Aliquam volutpat metus sed mollis pharetra. Nam blandit justo a erat maximus, vel viverra neque porttitor. Proin quis quam purus. Maecenas sit amet efficitur diam, at mattis magna. Pellentesque eget bibendum neque. Nullam vel libero aliquet, accumsan tellus nec, malesuada odio. Sed pretium, metus et aliquam mollis, magna justo dignissim felis, quis luctus ante erat id enim. Sed vel libero justo.\n",
        "\n",
        "Ut consequat lectus in semper hendrerit. Duis laoreet interdum odio malesuada tincidunt. Maecenas pretium libero nisi, ac consectetur ex faucibus non. Sed ac eros porta, volutpat urna ac, sollicitudin dolor. Pellentesque luctus urna lectus. Praesent vulputate tortor elit. Aenean neque nisi, ultrices ac ante a, ultricies ullamcorper nisi. In lobortis finibus purus, vel congue diam varius id. Pellentesque sagittis neque eu mauris dictum, id vehicula quam vehicula.\n",
        "\n",
        "Cras aliquet finibus tincidunt. Duis finibus tempor neque ut cursus. Quisque id eros massa. Morbi vulputate metus justo. Suspendisse eget ipsum sed neque fringilla tempor. Aliquam vitae arcu quis tellus eleifend vestibulum. Sed lacus elit, malesuada sed ex at, semper placerat turpis. Praesent eget dui molestie, fermentum eros ornare, vehicula nulla. Integer feugiat libero convallis pharetra porttitor.\n",
        "\n",
        "Mauris egestas euismod laoreet. Sed ut maximus enim. Class aptent taciti sociosqu ad litora torquent per conubia nostra, per inceptos himenaeos. Ut lobortis aliquet purus, porttitor gravida odio venenatis non. Nulla lacus velit, eleifend venenatis nulla eget, ornare vulputate metus. Aliquam erat volutpat. Maecenas pharetra non dui ut tincidunt. Fusce vel finibus purus. Nam vestibulum sodales porta. Aenean at tincidunt arcu, sit amet eleifend metus. Morbi pharetra nunc turpis, et condimentum metus volutpat nec. Integer sed nisl eros. Sed odio nunc, fringilla ut porta vel, cursus quis nulla.\n",
        "\n",
        "Phasellus ac feugiat neque. Nunc volutpat augue massa, quis suscipit odio imperdiet et. Proin pulvinar, dui a convallis mollis, orci metus pharetra ipsum, quis malesuada odio sapien sit amet ligula. Fusce elementum consectetur auctor. Aenean turpis dolor, aliquet sed suscipit at, elementum nec mauris. Aliquam accumsan sit amet arcu sed ornare. In rhoncus mattis ligula. Aliquam tempor odio eu turpis cursus, sit amet eleifend eros egestas.\n",
        "\n",
        "Fusce tempor varius orci molestie tempus. Nam tempor, ante id porttitor ultricies, ipsum neque interdum turpis, vitae varius augue augue id magna. Curabitur vitae nisl ut leo dictum elementum eu nec libero. Curabitur non dolor et metus vehicula lobortis. In at enim felis. Sed viverra tempus tortor. Quisque nec lorem non nisi auctor efficitur quis ac quam. Fusce quis pulvinar nunc, sit amet aliquam justo. Ut convallis odio in ante hendrerit posuere. Mauris lobortis sem nisl, vitae vehicula massa lacinia ac. Sed blandit odio imperdiet, faucibus turpis vitae, luctus ipsum. Donec porta ornare quam vel lacinia. Praesent maximus libero ipsum, a feugiat risus varius a. Integer risus ex, feugiat ac magna nec, tristique semper dolor.\n",
        "\n",
        "Integer ac vulputate ante. Morbi quam elit, ullamcorper ac convallis ut, aliquam sed nisi. Proin porta risus ac libero ornare sollicitudin. Curabitur quis risus massa. Nam ultrices ipsum a leo varius, non pretium lacus volutpat. Aliquam erat volutpat. Aenean tempus scelerisque neque in rutrum.\n",
        "\n",
        "Sed mollis vel neque ultrices ullamcorper. Nam finibus augue a eros mattis maximus. Nam rhoncus non libero consequat rhoncus. Aenean rutrum nibh id tortor gravida vestibulum. Pellentesque quis justo mauris. Ut vulputate, est vel finibus consequat, urna libero eleifend nibh, a blandit nisl odio et velit. Maecenas porta sem massa, vitae porta lectus cursus vel. Donec lobortis sit amet nibh ut consectetur. Curabitur ornare lectus ut dui rhoncus varius.\n",
        "\n",
        "Donec ullamcorper tempus mi eu vestibulum. Ut vitae massa commodo eros laoreet tempor. Donec lacinia porttitor iaculis. Maecenas sit amet erat velit. Praesent id mollis felis, ac cursus sapien. Pellentesque tempor, ante vitae tempor blandit, erat justo consectetur augue, at aliquet nulla erat ac ante. Curabitur laoreet, magna quis volutpat ultrices, turpis tellus dignissim quam, eget pretium quam nisi tincidunt elit. Phasellus sapien justo, tempor eget magna a, hendrerit feugiat erat. Aliquam euismod lectus at risus faucibus luctus. Nullam sit amet malesuada augue.\n",
        "\n",
        "In euismod est et velit condimentum porta ut eget turpis. Etiam vel nisi sit amet magna vulputate viverra eu sed odio. Curabitur quis ex sed justo dapibus maximus. Mauris tincidunt tortor at massa commodo placerat. Etiam finibus malesuada nisl in faucibus. Phasellus ac leo vel justo auctor hendrerit vitae sed nisl. Maecenas egestas quam odio, vitae suscipit augue porttitor et. Curabitur a mauris quis mi faucibus mattis molestie sit amet ipsum. Vivamus luctus porttitor felis, et semper tortor. Nunc tristique tortor justo, vel venenatis mauris commodo vel. Nunc vel nisi augue. Aliquam est magna, scelerisque nec consequat non, tempor vel nisi. Vestibulum facilisis tincidunt neque vitae commodo. Aliquam id congue ipsum. Nullam gravida ipsum nibh, a laoreet velit luctus vel.\n",
        "\n",
        "Cras hendrerit ac mi eu feugiat. Mauris diam ipsum, dignissim ut interdum a, porta id purus. Etiam consequat dui eget ante commodo, ut efficitur dui congue. Proin eget sem in justo lobortis bibendum. Suspendisse eleifend ex commodo gravida consectetur. Suspendisse et accumsan libero. Nulla tristique dolor eget vestibulum condimentum. Sed at ligula vel tellus pellentesque rhoncus eget ut ante. Nam sit amet enim sed turpis pretium blandit. Curabitur dolor ante, sollicitudin eu blandit et, dictum ac diam.\n",
        "\n",
        "Vivamus ac arcu quis elit suscipit sodales scelerisque consequat metus. Pellentesque consequat a nunc quis rutrum. Sed placerat, lorem eget rhoncus semper, massa urna pellentesque neque, at sagittis tellus arcu in ante. Aenean neque elit, commodo non vestibulum eget, maximus vel quam. Nulla vel sapien sit amet nibh dignissim ultrices. Ut in nibh vitae sem rutrum sollicitudin. Curabitur at leo nisi.\n",
        "\n",
        "Curabitur nec urna eget sem vulputate maximus. Sed et congue mauris, ac finibus lorem. Sed non tincidunt libero. Sed faucibus purus porta eros ultricies, non tempor libero aliquam. Aliquam erat volutpat. Fusce commodo feugiat nisi ut venenatis. Duis vel rutrum enim. Suspendisse euismod lacinia imperdiet. Vestibulum ante ipsum primis in faucibus orci luctus et ultrices posuere cubilia curae; Quisque varius libero in arcu interdum mollis. Pellentesque sed vestibulum quam. Vestibulum id metus fermentum, semper ipsum at, sagittis turpis. Morbi dictum orci vel leo commodo cursus. Orci varius natoque penatibus et magnis dis parturient montes, nascetur ridiculus mus. Nam aliquam, augue id tempor congue, enim nisl consequat urna, rutrum aliquam arcu elit sit amet tellus. Nam ut odio quis tortor scelerisque efficitur placerat non dolor.\n",
        "\n",
        "Vestibulum ante ipsum primis in faucibus orci luctus et ultrices posuere cubilia curae; Fusce in varius eros. Aliquam congue vehicula sapien lobortis mattis. Ut quis libero leo. Aenean finibus, ipsum ut porta aliquet, justo velit convallis dui, ut tincidunt justo erat a dui. Integer luctus lacinia neque sit amet molestie. Ut rhoncus posuere augue, id bibendum libero feugiat eu. Morbi quis justo urna. Vestibulum scelerisque aliquam commodo. Etiam vitae varius justo, sit amet gravida ipsum. Duis convallis porttitor cursus.\n",
        "\n",
        "Nunc placerat viverra eleifend. Mauris id tortor justo. Ut ultricies leo dui, vitae mattis tortor dapibus quis. Ut quam mi, rutrum nec aliquet in, vulputate a lacus. Vivamus hendrerit luctus iaculis. Praesent sed mattis mauris. Sed rutrum, nulla a consectetur laoreet, purus mauris dictum eros, quis vehicula ipsum leo egestas lorem. Sed placerat vestibulum vehicula. Fusce elementum dolor id augue hendrerit, eget luctus quam sodales. Phasellus aliquam massa ut blandit aliquet. Nulla et magna nec ipsum consequat tristique at eget risus. Integer in neque ut felis sollicitudin dictum. Aliquam mattis mollis leo, ut semper massa dictum ac.\n",
        "\n",
        "Sed libero nulla, congue in ultrices eget, consequat at tortor. Etiam interdum velit purus, ornare auctor enim vehicula sit amet. Maecenas bibendum fringilla dui, a efficitur orci commodo in. Maecenas urna leo, pharetra eget suscipit at, congue eu nibh. Cras rhoncus ante nec turpis euismod, vitae cursus ante auctor. Cras pharetra eu risus vitae porttitor. Nunc lacus libero, malesuada ac elit vitae, euismod maximus nunc. Quisque elementum metus vel mattis sollicitudin.\n",
        "\n",
        "Etiam vestibulum nisl sed nibh luctus ultrices. Duis blandit, lacus sit amet feugiat ullamcorper, purus arcu ornare ligula, eu dignissim tortor mauris quis eros. In hac habitasse platea dictumst. Fusce volutpat in magna sit amet iaculis. Vestibulum ante ipsum primis in faucibus orci luctus et ultrices posuere cubilia curae; Donec ornare metus id aliquam condimentum. Praesent sit amet erat erat. Maecenas convallis orci quis dolor sodales iaculis ac eget erat. Cras varius quam sit amet risus elementum lobortis. Vestibulum quam sapien, congue quis lorem sit amet, tincidunt viverra mi.\n",
        "\n",
        "Donec tincidunt tellus eros, sit amet pharetra dui consectetur eu. Ut fermentum libero non libero molestie, sit amet luctus ipsum cursus. Nunc purus ligula, scelerisque non lorem eget, tempus tincidunt turpis. Etiam venenatis, ante quis tristique maximus, ex ligula tincidunt ligula, eu faucibus justo justo at urna. Etiam a urna vitae lacus finibus commodo sit amet id turpis. Nulla sed cursus metus. Suspendisse sem ex, condimentum ac lorem ac, elementum semper enim. Pellentesque rhoncus non tortor id consectetur. Aliquam nec leo lacinia, elementum mi eget, facilisis tortor. Sed blandit nulla id lorem accumsan, scelerisque aliquam sapien facilisis.\n",
        "\n",
        "Maecenas rutrum efficitur ex sed venenatis. Nullam commodo nibh vitae vulputate efficitur. Cras sodales, diam et venenatis pharetra, ante metus consectetur nibh, malesuada blandit elit ipsum sit amet lacus. Morbi fermentum placerat pharetra. Proin ut tristique risus. In hac habitasse platea dictumst. Maecenas finibus dictum sagittis. Vivamus interdum ac risus quis elementum. Nullam fermentum porta orci ut pulvinar. Aenean rutrum scelerisque magna, a lacinia ligula.\n",
        "\n",
        "Ut id volutpat ante. Aenean a mauris ligula. Integer rhoncus a nunc in varius. Aenean sed aliquam sapien, a ullamcorper magna. Vestibulum vulputate ultrices orci, eget congue turpis laoreet quis. Nullam quis odio tristique, tristique enim eget, elementum nibh. Donec quis diam non turpis egestas pharetra nec a dolor. Donec accumsan vitae sapien eget viverra.\n",
        "\n",
        "Morbi tincidunt dolor et velit imperdiet euismod. In nec dapibus nisi. Proin lobortis venenatis dolor pretium tempus. Aliquam et mi malesuada, commodo dolor ac, imperdiet tellus. Proin neque nisl, ultrices blandit libero ac, bibendum rutrum dui. Donec eget felis iaculis, aliquet diam nec, placerat libero. Praesent vestibulum suscipit sem, in dignissim tortor ornare eget. Vivamus pharetra blandit scelerisque. In tristique elit ac posuere tincidunt. Pellentesque quis rutrum sem. Proin tempus eu lacus ultrices porta. Suspendisse potenti. Sed eros lacus, ultricies ornare est et, bibendum efficitur sem.\n",
        "\n",
        "Praesent sed nunc eu magna vulputate lobortis. Maecenas aliquam lectus ut augue accumsan, quis auctor arcu bibendum. Duis placerat egestas feugiat. Praesent molestie nulla quis velit dapibus maximus. Vestibulum lacinia dui est. In non massa lacus. Fusce tellus libero, tincidunt a mollis in, porta sed urna. Morbi non ex et leo scelerisque sollicitudin. Etiam lorem arcu, ornare id lectus non, malesuada accumsan dui.\n",
        "\n",
        "Aenean volutpat eleifend luctus. Nullam vehicula tortor non turpis facilisis, at pharetra augue gravida. In hac habitasse platea dictumst. Sed nec quam eget justo venenatis cursus. Sed vel bibendum justo, nec sodales enim. Vestibulum nisi magna, cursus sit amet euismod sit amet, vulputate gravida nibh. Phasellus placerat ut lorem vitae maximus. Duis aliquam mauris vitae tempor ullamcorper. Mauris purus massa, consequat nec augue quis, ornare aliquet turpis. Vestibulum consequat augue id metus volutpat vehicula. Quisque quis neque dapibus mauris tristique sodales a vitae ligula. Integer ornare lorem vel facilisis convallis. Sed ut diam sem.\n",
        "\n",
        "Suspendisse varius, nibh vel semper varius, velit nulla rhoncus enim, at suscipit felis arcu in lectus. Morbi lobortis egestas ligula ac condimentum. Sed non posuere nulla, eget consequat elit. Quisque porttitor urna risus, at rutrum dolor consequat quis. Integer eget molestie lacus. Fusce ullamcorper magna consectetur vestibulum facilisis. Nulla ultricies mauris et ipsum blandit, et tincidunt magna bibendum. In mattis enim et ex vulputate, eget scelerisque urna pharetra. Morbi dapibus laoreet urna, eleifend dictum leo porta ut. Aliquam at ornare mi, sit amet tempor arcu. Praesent quam neque, rutrum quis tempor eu, iaculis non libero. Praesent eget dolor a sem gravida aliquet eu ut arcu. Vestibulum varius urna quis sem dictum dignissim.\n",
        "\n",
        "Aenean mollis, diam vitae aliquam lobortis, nibh metus fermentum magna, sit amet tempus enim ligula nec leo. Morbi ullamcorper orci a magna euismod, a pellentesque nisi pulvinar. Proin blandit bibendum dui, sed tincidunt metus laoreet at. Praesent eget congue erat. Sed sit amet rhoncus velit, tincidunt bibendum eros. Aliquam a sagittis elit. Morbi suscipit tincidunt turpis.\n",
        "\n",
        "Vestibulum vel neque fringilla, tempor neque at, varius metus. Phasellus orci enim, rutrum in vulputate vitae, vestibulum et mauris. Curabitur turpis ipsum, hendrerit ut mauris a, condimentum porttitor dui. Fusce eget tempus risus. Integer aliquet rutrum justo sed volutpat. Sed finibus, justo vitae bibendum rhoncus, ante est malesuada sem, id finibus diam quam ac quam. Vestibulum dignissim feugiat magna, ut dapibus turpis molestie eget. Aliquam erat volutpat. Donec sed commodo quam. Pellentesque tortor neque, tempor at ex nec, blandit interdum erat. Phasellus fringilla leo vel sem faucibus pellentesque. Nunc quis magna magna. Mauris quis interdum leo, scelerisque maximus purus. Quisque egestas nisi faucibus ex scelerisque, vel cursus leo vulputate.\n",
        "\n",
        "Mauris maximus malesuada venenatis. Vestibulum sed massa ac ipsum dapibus lobortis eget sed dui. In volutpat sem feugiat nisi laoreet sagittis. Fusce id tempor dui. Donec in molestie magna. Suspendisse sed quam vitae sapien consequat accumsan. Lorem ipsum dolor sit amet, consectetur adipiscing elit. Integer vitae blandit odio. Nulla feugiat vulputate leo sit amet dapibus. Pellentesque dapibus quam vitae ligula tincidunt interdum. Morbi ac diam ac elit pharetra consequat. In ut turpis placerat elit eleifend facilisis. Vestibulum non lorem eu neque semper consequat. Mauris id luctus nibh, quis pellentesque ipsum. Quisque felis augue, elementum sit amet varius et, sagittis ut augue.\n",
        "\n",
        "Quisque vestibulum commodo quam non eleifend. Donec nec sagittis ligula. Duis bibendum sodales convallis. Phasellus maximus pharetra elit, id fringilla nisl aliquet ornare. Nam suscipit nibh tellus, id ultrices odio convallis non. Duis eu interdum orci, ultrices pharetra ante. Pellentesque a orci tortor. Aenean finibus est nec dolor egestas tristique. Maecenas sed vulputate leo, scelerisque aliquam magna. Nunc egestas mi sed pharetra porta. Nullam ac dolor a ligula fermentum rhoncus.\n",
        "\n",
        "Curabitur magna odio, pulvinar non sapien vitae, fringilla tincidunt odio. Etiam et fermentum purus, non gravida erat. Suspendisse sed ligula tempus, lacinia tortor vitae, facilisis orci. Vivamus vel tortor tempus arcu vestibulum finibus. Proin laoreet accumsan auctor. Pellentesque efficitur pulvinar est a elementum. Aenean convallis imperdiet sem, et feugiat orci malesuada ut. Cras egestas vel nisl sed imperdiet. Fusce in ipsum non metus efficitur laoreet. Sed non nisi egestas est pharetra ultricies. Integer sollicitudin volutpat ullamcorper. Curabitur iaculis congue mi ac interdum. Duis eget ante tempor, condimentum arcu quis, porttitor lectus. Integer commodo dolor a sapien molestie, non vehicula enim facilisis.\n",
        "\n",
        "Integer mollis odio eget tortor finibus hendrerit. Phasellus feugiat tincidunt volutpat. Donec nunc urna, molestie ut venenatis sed, aliquet ut ipsum. In hac habitasse platea dictumst. Integer ipsum nisi, sodales sit amet dui vel, vulputate sagittis risus. Aenean convallis tempus consectetur. Maecenas tincidunt fringilla erat. Fusce fringilla ipsum velit. Sed et elit eu felis tincidunt egestas quis eu tellus. Sed sit amet dolor pellentesque magna fermentum fringilla vitae vitae erat. Praesent sapien ipsum, luctus ac elementum at, eleifend ut eros. Quisque."
      ],
      "execution_count": 1,
      "outputs": [
        {
          "output_type": "stream",
          "name": "stdout",
          "text": [
            "Writing lorem.ipsum\n"
          ]
        }
      ]
    },
    {
      "cell_type": "code",
      "metadata": {
        "colab": {
          "base_uri": "https://localhost:8080/"
        },
        "id": "DMzgX2L9Yrav",
        "outputId": "42074dee-90d4-4f08-87e3-1cf0c9e67a1d"
      },
      "source": [
        "!head lorem.ipsum"
      ],
      "execution_count": 2,
      "outputs": [
        {
          "output_type": "stream",
          "name": "stdout",
          "text": [
            "Lorem ipsum dolor sit amet, consectetur adipiscing elit. Morbi hendrerit lorem id neque tincidunt congue. Etiam non dui vel nulla tempus vulputate. Aliquam non rhoncus dui. Vivamus id ligula id ante varius tempus euismod ut odio. Nam sit amet elementum arcu. Nulla efficitur pretium pretium. Aenean congue iaculis mauris vitae malesuada. Vestibulum pharetra interdum eleifend. Nam sit amet rutrum massa. Vivamus consequat mi at enim euismod convallis. Morbi semper ipsum est, ac interdum nunc tristique sed. Duis a ante est.\n",
            "\n",
            "Vestibulum volutpat massa a lectus venenatis ornare. Donec eu pretium sapien, nec facilisis justo. Sed sed sagittis erat. Orci varius natoque penatibus et magnis dis parturient montes, nascetur ridiculus mus. Curabitur non nunc eget odio dictum dignissim. Mauris blandit egestas massa, at posuere neque. Proin nec enim at nulla viverra tempus. Integer et ante commodo, lacinia lectus id, auctor nulla. Suspendisse potenti. Phasellus ante enim, bibendum in libero in, lobortis gravida odio. Sed consectetur metus vel libero pretium, et ultricies quam consectetur. Pellentesque eu sapien ac risus pellentesque semper.\n",
            "\n",
            "Cras condimentum, massa eu rutrum mollis, magna dolor convallis justo, in auctor dui libero nec purus. Ut vulputate venenatis nisi, at elementum odio tempus eu. Suspendisse cursus dictum neque, et viverra urna fringilla id. Quisque augue dui, semper id tempus vel, tristique vel massa. Morbi semper bibendum felis, eu semper justo dictum sed. Sed ornare lacus quis hendrerit posuere. Donec et lacus ut nisl aliquam iaculis non eget risus. Etiam egestas mauris ligula, non feugiat mauris faucibus sed. Lorem ipsum dolor sit amet, consectetur adipiscing elit. Quisque quis odio interdum, fermentum urna et, dignissim nibh. Ut imperdiet porta tortor, ut dignissim urna molestie et. Donec venenatis turpis ut nisl rhoncus, quis maximus orci volutpat. Nulla elementum elit a tincidunt ultrices.\n",
            "\n",
            "Maecenas id nisl lacus. Aenean nec libero in magna scelerisque commodo nec in sem. Phasellus iaculis egestas eros a rhoncus. Nam ornare nunc vitae felis pellentesque elementum. Maecenas vel purus sit amet nulla aliquet dignissim. Ut dolor neque, finibus vitae euismod et, gravida non odio. Etiam bibendum erat diam, sed scelerisque purus porttitor eleifend. Aliquam neque turpis, dapibus quis ultrices vel, accumsan ut est. Fusce tincidunt malesuada leo, sit amet commodo nulla. Sed pellentesque risus nec diam pellentesque tincidunt ac eget arcu. Vestibulum semper elementum gravida. Donec laoreet tortor eget ligula cursus, eu blandit nunc pellentesque. Sed ut cursus lacus, at sollicitudin odio. In tristique nec lectus non lacinia. Etiam eget rhoncus enim.\n",
            "\n",
            "Donec vitae tempor tellus. Pellentesque pharetra tincidunt arcu, at aliquet lacus lobortis laoreet. Pellentesque non risus neque. In interdum eget arcu dignissim interdum. Vestibulum porta aliquet dui. Nunc non erat lacus. Phasellus et vestibulum mauris, in ultricies nisi. Praesent vestibulum tortor eu mattis auctor.\n",
            "\n"
          ]
        }
      ]
    },
    {
      "cell_type": "code",
      "metadata": {
        "colab": {
          "base_uri": "https://localhost:8080/"
        },
        "id": "wdxQaBXfY0Bg",
        "outputId": "420de6f3-c741-44c1-b09a-6832226ab99c"
      },
      "source": [
        "with open(\"lorem.ipsum\") as f:\n",
        "  numlines = 0\n",
        "  numwords = 0\n",
        "  for line in f:\n",
        "    numwords += len(line.split())\n",
        "    numlines += 1\n",
        "  print(f\"{numlines} líneas {numwords} palabras\")"
      ],
      "execution_count": 5,
      "outputs": [
        {
          "output_type": "stream",
          "name": "stdout",
          "text": [
            "115 líneas 5000 palabras\n"
          ]
        }
      ]
    },
    {
      "cell_type": "code",
      "metadata": {
        "colab": {
          "base_uri": "https://localhost:8080/"
        },
        "id": "cS_f_toOZSKT",
        "outputId": "88105fb6-417e-46c9-8b7e-46f63270c0d0"
      },
      "source": [
        "una = \"esto es un acadena muy interesante\"\n",
        "una.split()"
      ],
      "execution_count": 3,
      "outputs": [
        {
          "output_type": "execute_result",
          "data": {
            "text/plain": [
              "['esto', 'es', 'un', 'acadena', 'muy', 'interesante']"
            ]
          },
          "metadata": {},
          "execution_count": 3
        }
      ]
    },
    {
      "cell_type": "code",
      "metadata": {
        "id": "q9j1sWiybWSi"
      },
      "source": [
        "def spacesInLine(line, i, f):\n",
        "  if i == f:\n",
        "    return 1 if line[i] == \" \" else 0\n",
        "  else:\n",
        "    mid = (i + f) // 2\n",
        "    ns1 = spacesInLine(line, i, mid)\n",
        "    ns2 = spacesInLine(line, mid + 1, f)\n",
        "    return ns1 + ns2\n",
        "\n",
        "def wordsInLine(line):\n",
        "  if line.strip() == \"\":\n",
        "    return 0\n",
        "  \n",
        "  return spacesInLine(line, 0, len(line) - 1) + 1"
      ],
      "execution_count": 19,
      "outputs": []
    },
    {
      "cell_type": "code",
      "metadata": {
        "id": "c8FP66DwZXCZ"
      },
      "source": [
        "def wordCount(text, i, f):\n",
        "  if i == f:\n",
        "    return wordsInLine(text[i])\n",
        "  else:\n",
        "    mid = (i + f) // 2\n",
        "    nw1 = wordCount(text, i, mid)\n",
        "    nw2 = wordCount(text, mid + 1, f)\n",
        "    return nw1 + nw2"
      ],
      "execution_count": 20,
      "outputs": []
    },
    {
      "cell_type": "code",
      "metadata": {
        "colab": {
          "base_uri": "https://localhost:8080/"
        },
        "id": "zNZXjadkaKHL",
        "outputId": "2f975a05-faaa-43b4-9cdc-b879436a0b63"
      },
      "source": [
        "with open(\"lorem.ipsum\") as f:\n",
        "  text = f.readlines()\n",
        "  numWords = wordCount(text, 0, len(text) - 1)\n",
        "  print(numWords, \" palabras\")"
      ],
      "execution_count": 21,
      "outputs": [
        {
          "output_type": "stream",
          "name": "stdout",
          "text": [
            "5000  palabras\n"
          ]
        }
      ]
    },
    {
      "cell_type": "code",
      "metadata": {
        "id": "XBlzre5oaaYa"
      },
      "source": [
        "def pivot(a, ini, end):\n",
        "  p = ini\n",
        "  i = ini + 1\n",
        "  j = end\n",
        "  while i <= j:\n",
        "    if a[i] < a[p]:\n",
        "      i += 1\n",
        "    elif a[j] > a[p]:\n",
        "      j -= 1\n",
        "    else:\n",
        "      a[i], a[j] = a[j], a[i]\n",
        "      i += 1\n",
        "      j -= 1\n",
        "\n",
        "  a[p], a[j] = a[j], a[p]\n",
        "\n",
        "  return j\n",
        "\n",
        "def qs(a, i, f):\n",
        "  if i < f:\n",
        "    p = pivot(a, i, f)\n",
        "    qs(a, i, p - 1)\n",
        "    qs(a, p + 1, f)"
      ],
      "execution_count": 22,
      "outputs": []
    },
    {
      "cell_type": "code",
      "metadata": {
        "colab": {
          "base_uri": "https://localhost:8080/"
        },
        "id": "3L3H8Duxg474",
        "outputId": "ed41c2fb-d1b4-41fe-c2c9-3b2ebbadfb36"
      },
      "source": [
        "import random\n",
        "\n",
        "cualquiera = list(range(100000))\n",
        "random.shuffle(cualquiera)\n",
        "\n",
        "def isSorted(a):\n",
        "  for i in range(1, len(a)):\n",
        "    if a[i - 1] > a[i]:\n",
        "      return False\n",
        "\n",
        "  return True\n",
        "\n",
        "print(isSorted(cualquiera))\n"
      ],
      "execution_count": 23,
      "outputs": [
        {
          "output_type": "stream",
          "name": "stdout",
          "text": [
            "False\n"
          ]
        }
      ]
    },
    {
      "cell_type": "code",
      "metadata": {
        "id": "XYMbwn4MhO0Y"
      },
      "source": [
        "qs(cualquiera, 0, len(cualquiera) - 1)"
      ],
      "execution_count": 24,
      "outputs": []
    },
    {
      "cell_type": "code",
      "metadata": {
        "colab": {
          "base_uri": "https://localhost:8080/"
        },
        "id": "ZPJuB1MJhTV7",
        "outputId": "a0b204f8-b9cc-4d82-a743-79dabfb9aaa1"
      },
      "source": [
        "isSorted(cualquiera)"
      ],
      "execution_count": 25,
      "outputs": [
        {
          "output_type": "execute_result",
          "data": {
            "text/plain": [
              "True"
            ]
          },
          "metadata": {},
          "execution_count": 25
        }
      ]
    },
    {
      "cell_type": "code",
      "metadata": {
        "id": "wESH9OE5hVYg"
      },
      "source": [
        ""
      ],
      "execution_count": null,
      "outputs": []
    }
  ]
}