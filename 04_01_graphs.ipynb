{
  "nbformat": 4,
  "nbformat_minor": 0,
  "metadata": {
    "colab": {
      "name": "04-01-graphs.ipynb",
      "provenance": [],
      "authorship_tag": "ABX9TyNSXJIGaJ6p5JKbZBBipFkr",
      "include_colab_link": true
    },
    "kernelspec": {
      "name": "python3",
      "display_name": "Python 3"
    },
    "language_info": {
      "name": "python"
    }
  },
  "cells": [
    {
      "cell_type": "markdown",
      "metadata": {
        "id": "view-in-github",
        "colab_type": "text"
      },
      "source": [
        "<a href=\"https://colab.research.google.com/github/lmcanavals/algorithmic_complexity/blob/main/04_01_graphs.ipynb\" target=\"_parent\"><img src=\"https://colab.research.google.com/assets/colab-badge.svg\" alt=\"Open In Colab\"/></a>"
      ]
    },
    {
      "cell_type": "markdown",
      "metadata": {
        "id": "39uNAak3Ce7o"
      },
      "source": [
        "# Graphs"
      ]
    },
    {
      "cell_type": "markdown",
      "metadata": {
        "id": "-uyWfGAXChvP"
      },
      "source": [
        "## Utility functions"
      ]
    },
    {
      "cell_type": "code",
      "metadata": {
        "id": "FILRc016CeP_"
      },
      "source": [
        "import graphviz as gv\n",
        "import numpy as np\n",
        "import pandas as pd"
      ],
      "execution_count": 1,
      "outputs": []
    },
    {
      "cell_type": "code",
      "metadata": {
        "id": "LLBE4glRCq2f"
      },
      "source": [
        "def adjmShow(M, directed=False, weighted=False):\n",
        "  g = gv.Digraph(\"G\") if directed else gv.Graph(\"G\")\n",
        "  g.graph_attr[\"layout\"] = \"neato\"\n",
        "  g.node_attr[\"style\"] = \"filled\"\n",
        "  g.node_attr[\"color\"] = \"orange\"\n",
        "  n = len(G)\n",
        "  for u in range(n):\n",
        "    g.node(str(u))\n",
        "  for u in range(n):\n",
        "    for v in range(0 if directed else u, n):\n",
        "      if weighted:\n",
        "        if not np.isnan(M[u, v]):\n",
        "          g.edge(str(u), str(v), f\"{M[u, v]:.0f}\")\n",
        "      else:\n",
        "        if G[u, v] == 1:\n",
        "          g.edge(str(u), str(v))\n",
        "  return g"
      ],
      "execution_count": 2,
      "outputs": []
    },
    {
      "cell_type": "code",
      "metadata": {
        "id": "TcswMSwNC6L3"
      },
      "source": [
        "def adjlShow(L, labels=None, directed=False, weighted=False):\n",
        "  g = gv.Digraph(\"G\") if directed else gv.Graph(\"G\")\n",
        "  g.node_attr[\"style\"] = \"filled\"\n",
        "  g.node_attr[\"color\"] = \"orange\"\n",
        "  n = len(g2)\n",
        "  for u in range(n):\n",
        "    g.node(str(u), labels[u] if labels else str(u))\n",
        "  added = set()\n",
        "  for u in range(n):\n",
        "    for v in g2[u]:\n",
        "      if not directed and not f\"{u},{v}\" in added:\n",
        "        added.add(f\"{u},{v}\")\n",
        "        added.add(f\"{v},{u}\")\n",
        "        g.edge(str(u), str(v))\n",
        "      else:\n",
        "        g.edge(str(u), str(v))\n",
        "  return g"
      ],
      "execution_count": 3,
      "outputs": []
    },
    {
      "cell_type": "code",
      "metadata": {
        "id": "z2TgRQbPC_cV"
      },
      "source": [
        ""
      ],
      "execution_count": null,
      "outputs": []
    }
  ]
}